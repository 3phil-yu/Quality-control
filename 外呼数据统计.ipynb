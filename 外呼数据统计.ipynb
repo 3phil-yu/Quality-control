{
 "cells": [
  {
   "cell_type": "code",
   "execution_count": 22,
   "metadata": {},
   "outputs": [
    {
     "data": {
      "text/plain": [
       "Index(['时间', 'SKU', '商品名称', 'numbers', 'rd_id', '商品一级类目', '商品二级类目', '商品三级类目',\n",
       "       '行业', '渠道', 'is_distribute', 'on_offline_status', 'D均值', '商家ID',\n",
       "       '商家店铺名', '粉丝数', '下单用户ID', '订单号', '快递名', '快递单号', '订单签收时间', '外呼责任人\\n姓名',\n",
       "       '是否\\n接听电话', '用户是否\\n配合调研', '1.发货物流\\n打分', '不满意原因\\n（0-6）', '补充原因\\n（其他）',\n",
       "       '2.商品包装\\n打分', '不满意原因\\n（0-6）2', '补充原因\\n（其他）.1', '3.实物与主播介绍\\n一致性打分',\n",
       "       '不满意原因\\n（0-6）3', '补充原因\\n（其他）.2', '4.商品质量\\n打分', '不满意原因\\n（0-6）4',\n",
       "       '补充原因\\n（其他）.3', '5.是否愿意继续在该主播家购买', '备注', 'Unnamed: 38'],\n",
       "      dtype='object')"
      ]
     },
     "execution_count": 22,
     "metadata": {},
     "output_type": "execute_result"
    }
   ],
   "source": [
    "import pandas as pd\n",
    "import numpy as np\n",
    "#pkwh_date=input(\"请输入品控外呼日期\")\n",
    "date='0203'\n",
    "#path=\"/Users/philyu/kim/Kim file/2021-01/0116-0118_用户体验治理.xlsx\"\n",
    "#path=\"/Users/philyu/桌面/品控交付1.xlsx\"\n",
    "path=\"/Users/philyu/Library/Application Support/Kim (Kim)/userData/1d462af5bdfa4abca3ab63759ff07363/Kim file/2021-02/%s_用户体验治理_外呼回收数据（交付）.xlsx\"%date\n",
    "data=pd.read_excel(path,sheet_name='有效数据')\n",
    "data.columns"
   ]
  },
  {
   "cell_type": "code",
   "execution_count": 23,
   "metadata": {},
   "outputs": [
    {
     "data": {
      "text/plain": [
       "37"
      ]
     },
     "execution_count": 23,
     "metadata": {},
     "output_type": "execute_result"
    }
   ],
   "source": [
    "data_reg_物流=data[data[\"1.发货物流\\n打分\"]>=9]\n",
    "data_reg_包装=data[data[\"2.商品包装\\n打分\"]>=9]\n",
    "data_reg_一致性=data[data[\"3.实物与主播介绍\\n一致性打分\"]>=9]\n",
    "data_reg_质量=data[(data[\"4.商品质量\\n打分\"]==9) | (data[\"4.商品质量\\n打分\"]==10) | (data[\"4.商品质量\\n打分\"]==\"未使用\")]\n",
    "data_reg_物流_count=data_reg_物流.groupby([\"SKU\"])[\"1.发货物流\\n打分\"].count()\n",
    "data_reg_包装_count=data_reg_包装.groupby([\"SKU\"])[\"2.商品包装\\n打分\"].count()\n",
    "data_reg_一致性_count=data_reg_一致性.groupby([\"SKU\"])[\"3.实物与主播介绍\\n一致性打分\"].count()\n",
    "data_reg_质量_count=data_reg_质量.groupby([\"SKU\"])[\"4.商品质量\\n打分\"].count()\n",
    "data_sku_count=data.groupby([\"SKU\"])[\"SKU\"].count()\n",
    "len(data_sku_count)"
   ]
  },
  {
   "cell_type": "code",
   "execution_count": 24,
   "metadata": {},
   "outputs": [],
   "source": [
    "data_reg_物流_count1=pd.DataFrame(data_reg_物流_count)\n",
    "data_reg_物流_count1.columns=['1.发货物流\\n打分'] #修改列索引名称\n",
    "data_reg_物流_count2=data_reg_物流_count1.reset_index()\n",
    "\n",
    "data_reg_包装_count1=pd.DataFrame(data_reg_包装_count)\n",
    "data_reg_包装_count1.columns=['2.商品包装\\n打分'] #修改列索引名称\n",
    "data_reg_包装_count2=data_reg_包装_count1.reset_index()\n",
    "\n",
    "data_reg_一致性_count1=pd.DataFrame(data_reg_一致性_count)\n",
    "data_reg_一致性_count1.columns=['3.实物与主播介绍\\n一致性打分'] #修改列索引名称\n",
    "data_reg_一致性_count2=data_reg_一致性_count1.reset_index()\n",
    "\n",
    "data_reg_质量_count1=pd.DataFrame(data_reg_质量_count)\n",
    "data_reg_质量_count1.columns=['4.商品质量\\n打分'] #修改列索引名称\n",
    "data_reg_质量_count2=data_reg_质量_count1.reset_index()\n",
    "\n",
    "# data_reg_物流_count=data_reg_物流_count.reset_index()\n",
    "# data_reg_质量_count=data_reg_质量_count.reset_index()\n",
    "# data_reg_包装_count=data_reg_质量_count.reset_index()\n",
    "# data_reg_一致性_count=data_reg_质量_count.reset_index()\n",
    "data_sku_count1=pd.DataFrame(data_sku_count)\n",
    "data_sku_count1.columns=['sku计数'] #修改列索引名称\n",
    "data_sku_count2=data_sku_count1.reset_index()\n",
    "#data_reg_质量_count[\"sku\"].unique()\n",
    "#data_reg_质量_count[\"sku\"]"
   ]
  },
  {
   "cell_type": "code",
   "execution_count": 25,
   "metadata": {},
   "outputs": [
    {
     "data": {
      "text/html": [
       "<div>\n",
       "<style scoped>\n",
       "    .dataframe tbody tr th:only-of-type {\n",
       "        vertical-align: middle;\n",
       "    }\n",
       "\n",
       "    .dataframe tbody tr th {\n",
       "        vertical-align: top;\n",
       "    }\n",
       "\n",
       "    .dataframe thead th {\n",
       "        text-align: right;\n",
       "    }\n",
       "</style>\n",
       "<table border=\"1\" class=\"dataframe\">\n",
       "  <thead>\n",
       "    <tr style=\"text-align: right;\">\n",
       "      <th></th>\n",
       "      <th>SKU</th>\n",
       "      <th>1.发货物流打分合格率</th>\n",
       "      <th>2.商品包装打分合格率</th>\n",
       "      <th>3.实物与主播介绍一致性打分合格率</th>\n",
       "      <th>4.商品质量打分合格率</th>\n",
       "      <th>2&amp;3&amp;4三项平均打分合格率</th>\n",
       "    </tr>\n",
       "  </thead>\n",
       "  <tbody>\n",
       "    <tr>\n",
       "      <th>0</th>\n",
       "      <td>764964255653</td>\n",
       "      <td>0.942857</td>\n",
       "      <td>1.000000</td>\n",
       "      <td>0.971429</td>\n",
       "      <td>0.971429</td>\n",
       "      <td>0.980952</td>\n",
       "    </tr>\n",
       "    <tr>\n",
       "      <th>1</th>\n",
       "      <td>765315532874</td>\n",
       "      <td>0.914286</td>\n",
       "      <td>0.914286</td>\n",
       "      <td>0.828571</td>\n",
       "      <td>0.885714</td>\n",
       "      <td>0.876190</td>\n",
       "    </tr>\n",
       "    <tr>\n",
       "      <th>2</th>\n",
       "      <td>765860958643</td>\n",
       "      <td>0.942857</td>\n",
       "      <td>0.971429</td>\n",
       "      <td>1.000000</td>\n",
       "      <td>1.000000</td>\n",
       "      <td>0.990476</td>\n",
       "    </tr>\n",
       "    <tr>\n",
       "      <th>3</th>\n",
       "      <td>768168535167</td>\n",
       "      <td>0.800000</td>\n",
       "      <td>0.857143</td>\n",
       "      <td>0.885714</td>\n",
       "      <td>0.914286</td>\n",
       "      <td>0.885714</td>\n",
       "    </tr>\n",
       "    <tr>\n",
       "      <th>4</th>\n",
       "      <td>769302403209</td>\n",
       "      <td>0.885714</td>\n",
       "      <td>0.914286</td>\n",
       "      <td>0.828571</td>\n",
       "      <td>0.828571</td>\n",
       "      <td>0.857143</td>\n",
       "    </tr>\n",
       "  </tbody>\n",
       "</table>\n",
       "</div>"
      ],
      "text/plain": [
       "            SKU  1.发货物流打分合格率  2.商品包装打分合格率  3.实物与主播介绍一致性打分合格率  4.商品质量打分合格率  \\\n",
       "0  764964255653     0.942857     1.000000           0.971429     0.971429   \n",
       "1  765315532874     0.914286     0.914286           0.828571     0.885714   \n",
       "2  765860958643     0.942857     0.971429           1.000000     1.000000   \n",
       "3  768168535167     0.800000     0.857143           0.885714     0.914286   \n",
       "4  769302403209     0.885714     0.914286           0.828571     0.828571   \n",
       "\n",
       "   2&3&4三项平均打分合格率  \n",
       "0        0.980952  \n",
       "1        0.876190  \n",
       "2        0.990476  \n",
       "3        0.885714  \n",
       "4        0.857143  "
      ]
     },
     "execution_count": 25,
     "metadata": {},
     "output_type": "execute_result"
    }
   ],
   "source": [
    "data_sku=pd.DataFrame()\n",
    "data_sku.loc[:,\"SKU\"]=data_sku_count2[\"SKU\"]\n",
    "data_sku.loc[:,\"1.发货物流打分合格率\"]=data_reg_物流_count2[\"1.发货物流\\n打分\"]/data_sku_count2['sku计数']\n",
    "#data_sku.loc[:,\"1.发货物流打分合格率_1\"]=data_sku.loc[:,\"1.发货物流打分合格率\"].apply(lambda x: format(x,\".2f%\"))\n",
    "data_sku.loc[:,\"2.商品包装打分合格率\"]=data_reg_包装_count2[\"2.商品包装\\n打分\"]/data_sku_count2['sku计数']\n",
    "data_sku.loc[:,\"3.实物与主播介绍一致性打分合格率\"]=data_reg_一致性_count2[\"3.实物与主播介绍\\n一致性打分\"]/data_sku_count2['sku计数']\n",
    "data_sku.loc[:,\"4.商品质量打分合格率\"]=data_reg_质量_count2[\"4.商品质量\\n打分\"]/data_sku_count2['sku计数']\n",
    "data_sku.loc[:,\"2&3&4三项平均打分合格率\"]=(data_sku.loc[:,\"2.商品包装打分合格率\"]+data_sku.loc[:,\"3.实物与主播介绍一致性打分合格率\"]+data_sku.loc[:,\"4.商品质量打分合格率\"])/3\n",
    "data_sku.head()"
   ]
  },
  {
   "cell_type": "code",
   "execution_count": 26,
   "metadata": {},
   "outputs": [
    {
     "data": {
      "text/plain": [
       "37"
      ]
     },
     "execution_count": 26,
     "metadata": {},
     "output_type": "execute_result"
    }
   ],
   "source": [
    "data_1=data[[\"时间\",\"SKU\",\"商品名称\",\"商品一级类目\",\"商品二级类目\",\"商品三级类目\",\"渠道\",\"is_distribute\",\"on_offline_status\",\"D均值\",\"商家ID\",\"商家店铺名\",\"粉丝数\"]]\n",
    "data_2=pd.merge(left=data_1,right=data_sku,left_on='SKU',right_on='SKU',how='inner')\n",
    "data_sku=data_2.drop_duplicates(\"SKU\")\n",
    "len(data_sku)\n",
    "#data_sku"
   ]
  },
  {
   "cell_type": "markdown",
   "metadata": {},
   "source": [
    "### 需要处理商品"
   ]
  },
  {
   "cell_type": "code",
   "execution_count": 27,
   "metadata": {},
   "outputs": [],
   "source": [
    "#data_sku.columns\n",
    "data_deal=data_sku[(data_sku[\"D均值\"]<4.75)&(data_sku[\"2&3&4三项平均打分合格率\"]<0.75)]"
   ]
  },
  {
   "cell_type": "code",
   "execution_count": 28,
   "metadata": {},
   "outputs": [],
   "source": [
    "# #对商品前30进行计数，标记\n",
    "# b=pd.DataFrame(data_sku)\n",
    "# b.columns=['1.发货物流打分合格率','2.商品包装打分合格率','3.实物与主播介绍一致性打分合格率','4.商品质量打分合格率','2&3&4三项平均打分合格率'] #修改列索引名称\n",
    "# b1=b.reset_index()\n",
    "# b1.columns"
   ]
  },
  {
   "cell_type": "markdown",
   "metadata": {},
   "source": [
    "### 处理原因"
   ]
  },
  {
   "cell_type": "code",
   "execution_count": 29,
   "metadata": {},
   "outputs": [],
   "source": [
    "df_list=list(data_deal['SKU'])\n",
    "data_3=data[data[\"SKU\"].isin(df_list)]\n",
    "data_3_1=data_3[(data_3[\"不满意原因\\n（0-6）2\"].notnull())&(data_3[\"不满意原因\\n（0-6）2\"] !=\"\")\\\n",
    "                |(data_3[\"不满意原因\\n（0-6）3\"].notnull())&(data_3[\"不满意原因\\n（0-6）3\"] !=\"\")\\\n",
    "                |(data_3[\"不满意原因\\n（0-6）4\"].notnull())&(data_3[\"不满意原因\\n（0-6）4\"] !=\"\")]\n",
    "data_reason=data_3_1[[\"SKU\",\"商品一级类目\",\"不满意原因\\n（0-6）2\",'补充原因\\n（其他）.1',\"不满意原因\\n（0-6）3\",'补充原因\\n（其他）.2',\"不满意原因\\n（0-6）4\",'补充原因\\n（其他）.3',]]"
   ]
  },
  {
   "cell_type": "markdown",
   "metadata": {},
   "source": [
    "### 数据导出"
   ]
  },
  {
   "cell_type": "code",
   "execution_count": 30,
   "metadata": {},
   "outputs": [
    {
     "name": "stderr",
     "output_type": "stream",
     "text": [
      "/opt/anaconda3/lib/python3.8/site-packages/xlsxwriter/workbook.py:329: UserWarning: Calling close() on already closed file.\n",
      "  warn(\"Calling close() on already closed file.\")\n"
     ]
    }
   ],
   "source": [
    "import pandas as pd\n",
    "#writer = pd.ExcelWriter(\"/Users/philyu/kim/Kim file/2021-01/01外呼数据/%s_用户体验治理数据_分析.xlsx\"%whsc_date)\n",
    "writer = pd.ExcelWriter(\"/Users/philyu/kim/Kim file/2021-02/02外呼数据/%s_用户体验治理数据_分析.xlsx\"%date) \n",
    "data_sku.to_excel(writer, sheet_name='%s用户体验治理数据'%date,index=None)\n",
    "data_deal.to_excel(writer, sheet_name='需要处理商品',index=None)\n",
    "data_reason.to_excel(writer, sheet_name='处理原因')\n",
    "writer.save()\n",
    "writer.close()"
   ]
  },
  {
   "cell_type": "markdown",
   "metadata": {},
   "source": [
    "### 一周数据合并"
   ]
  },
  {
   "cell_type": "code",
   "execution_count": 36,
   "metadata": {},
   "outputs": [
    {
     "name": "stdin",
     "output_type": "stream",
     "text": [
      "请输入第一天文件日期 0125\n",
      "请输入第二天文件日期 0126\n",
      "请输入第三天文件日期 0127\n",
      "请输入第四天文件日期 0128\n",
      "请输入第五天文件日期 0129\n"
     ]
    }
   ],
   "source": [
    "# 商品外呼情况\n",
    "f_day=input(\"请输入第一天文件日期\")\n",
    "s_day=input(\"请输入第二天文件日期\")\n",
    "t_day=input(\"请输入第三天文件日期\")\n",
    "fo_day=input(\"请输入第四天文件日期\")\n",
    "fi_day=input(\"请输入第五天文件日期\")\n",
    "df1=pd.read_excel(\"/Users/philyu/kim/Kim file/2021-01/01外呼数据/%s_用户体验治理数据_分析.xlsx\"%f_day,sheet_name='%s用户体验治理数据'%f_day)\n",
    "df2=pd.read_excel(\"/Users/philyu/kim/Kim file/2021-01/01外呼数据/%s_用户体验治理数据_分析.xlsx\"%s_day,sheet_name='%s用户体验治理数据'%s_day)\n",
    "df3=pd.read_excel(\"/Users/philyu/kim/Kim file/2021-01/01外呼数据/%s_用户体验治理数据_分析.xlsx\"%t_day,sheet_name='%s用户体验治理数据'%t_day)\n",
    "df4=pd.read_excel(\"/Users/philyu/kim/Kim file/2021-01/01外呼数据/%s_用户体验治理数据_分析.xlsx\"%fo_day,sheet_name='%s用户体验治理数据'%fo_day)\n",
    "df5=pd.read_excel(\"/Users/philyu/kim/Kim file/2021-01/01外呼数据/%s_用户体验治理数据_分析.xlsx\"%fi_day,sheet_name='%s用户体验治理数据'%fi_day)\n",
    "#df6=pd.read_excel(\"/Users/philyu/kim/Kim file/2021-01/01外呼数据/0123_用户体验治理数据_分析.xlsx\",sheet_name='0123用户体验治理数据')\n",
    "df_final=pd.concat([df1,df2,df3,df4,df5],axis=0)\n",
    "# 待下架商品\n",
    "df11=pd.read_excel(\"/Users/philyu/kim/Kim file/2021-01/01外呼数据/%s_用户体验治理数据_分析.xlsx\"%f_day,sheet_name='需要处理商品')\n",
    "df12=pd.read_excel(\"/Users/philyu/kim/Kim file/2021-01/01外呼数据/%s_用户体验治理数据_分析.xlsx\"%s_day,sheet_name='需要处理商品')\n",
    "df13=pd.read_excel(\"/Users/philyu/kim/Kim file/2021-01/01外呼数据/%s_用户体验治理数据_分析.xlsx\"%t_day,sheet_name='需要处理商品')\n",
    "df14=pd.read_excel(\"/Users/philyu/kim/Kim file/2021-01/01外呼数据/%s_用户体验治理数据_分析.xlsx\"%fo_day,sheet_name='需要处理商品')\n",
    "df15=pd.read_excel(\"/Users/philyu/kim/Kim file/2021-01/01外呼数据/%s_用户体验治理数据_分析.xlsx\"%fi_day,sheet_name='需要处理商品')\n",
    "#df16=pd.read_excel(\"/Users/philyu/kim/Kim file/2021-01/01外呼数据/0123_用户体验治理数据_分析.xlsx\",sheet_name='需要处理商品')\n",
    "df1_final=pd.concat([df11,df12,df13,df14,df15],axis=0)"
   ]
  },
  {
   "cell_type": "markdown",
   "metadata": {},
   "source": [
    "#### （1）待下架商品导出"
   ]
  },
  {
   "cell_type": "code",
   "execution_count": 39,
   "metadata": {},
   "outputs": [
    {
     "name": "stdin",
     "output_type": "stream",
     "text": [
      "请输出合并文件日期 0125-0129\n"
     ]
    }
   ],
   "source": [
    "#待下架商品输出\n",
    "sc_date=input('请输出合并文件日期')\n",
    "df1_final.to_excel(\"/Users/philyu/kim/Kim file/2021-01/01外呼数据/%s外呼待下架商品.xlsx\"%sc_date)"
   ]
  },
  {
   "cell_type": "markdown",
   "metadata": {},
   "source": [
    "#### （2）一周数据导出"
   ]
  },
  {
   "cell_type": "code",
   "execution_count": null,
   "metadata": {},
   "outputs": [],
   "source": [
    "#一周数据导出（天）\n",
    "import pandas as pd\n",
    "writer = pd.ExcelWriter(\"/Users/philyu/kim/Kim file/2021-01/01外呼数据/0125-0129商品外呼情况.xlsx\")\n",
    "df1.read_excel(writer, sheet_name='%s'%f_day,index=None)\n",
    "df2.to_excel(writer, sheet_name='%s'%s_day,index=None)\n",
    "df3.to_excel(writer, sheet_name='%s'%t_day,index=None)\n",
    "df4.to_excel(writer, sheet_name='%s'%fo_day,index=None)\n",
    "df5.to_excel(writer, sheet_name='%s'%fi_day,index=None)\n",
    "#df6.to_excel(writer, sheet_name='0123',index=None)\n",
    "df_final.to_excel(writer, sheet_name='%s'%sc_date,index=None)\n",
    "df1_final.to_excel(writer, sheet_name='需要处理商品',index=None)\n",
    "writer.save()\n",
    "writer.close()"
   ]
  },
  {
   "cell_type": "code",
   "execution_count": 2,
   "metadata": {},
   "outputs": [],
   "source": [
    "# import pandas as pd\n",
    "# # 商品外呼情况\n",
    "# df1=pd.read_excel(\"/Users/philyu/kim/Kim file/2020-12/外呼数据/1221_用户体验治理数据_分析.xlsx\",sheet_name='1221用户体验治理数据')\n",
    "# df2=pd.read_excel(\"/Users/philyu/kim/Kim file/2020-12/外呼数据/1222_用户体验治理数据_分析.xlsx\",sheet_name='1222用户体验治理数据')\n",
    "# df3=pd.read_excel(\"/Users/philyu/kim/Kim file/2020-12/外呼数据/1225_用户体验治理数据_分析.xlsx\",sheet_name='1225用户体验治理数据')\n",
    "# df4=pd.read_excel(\"/Users/philyu/kim/Kim file/2020-12/外呼数据/1228_用户体验治理数据_分析.xlsx\",sheet_name='1228用户体验治理数据')\n",
    "# df5=pd.read_excel(\"/Users/philyu/kim/Kim file/2020-12/外呼数据/1229_用户体验治理数据_分析.xlsx\",sheet_name='1229用户体验治理数据')\n",
    "# df6=pd.read_excel(\"/Users/philyu/kim/Kim file/2020-12/外呼数据/1230_用户体验治理数据_分析.xlsx\",sheet_name='1230用户体验治理数据')\n",
    "# df7=pd.read_excel(\"/Users/philyu/kim/Kim file/2020-12/外呼数据/1224_用户体验治理数据_分析.xlsx\",sheet_name='1224用户体验治理数据')\n",
    "# df_final=pd.concat([df1,df2,df3,df4,df5,df6,df7],axis=0)\n",
    "# #df_final.to_excel(\"/Users/philyu/kim/Kim file/2021-01/外呼数据/1221-1230商品外呼情况.xlsx\")\n",
    "# # 待下架商品\n",
    "# df11=pd.read_excel(\"/Users/philyu/kim/Kim file/2020-12/外呼数据/1221_用户体验治理数据_分析.xlsx\",sheet_name='需要处理商品')\n",
    "# df12=pd.read_excel(\"/Users/philyu/kim/Kim file/2020-12/外呼数据/1222_用户体验治理数据_分析.xlsx\",sheet_name='需要处理商品')\n",
    "# df13=pd.read_excel(\"/Users/philyu/kim/Kim file/2020-12/外呼数据/1224_用户体验治理数据_分析.xlsx\",sheet_name='需要处理商品')\n",
    "# df14=pd.read_excel(\"/Users/philyu/kim/Kim file/2020-12/外呼数据/1225_用户体验治理数据_分析.xlsx\",sheet_name='需要处理商品')\n",
    "# df15=pd.read_excel(\"/Users/philyu/kim/Kim file/2020-12/外呼数据/1228_用户体验治理数据_分析.xlsx\",sheet_name='需要处理商品')\n",
    "# df16=pd.read_excel(\"/Users/philyu/kim/Kim file/2020-12/外呼数据/1229_用户体验治理数据_分析.xlsx\",sheet_name='需要处理商品')\n",
    "# df17=pd.read_excel(\"/Users/philyu/kim/Kim file/2020-12/外呼数据/1230_用户体验治理数据_分析.xlsx\",sheet_name='需要处理商品')\n",
    "# df1_final=pd.concat([df11,df12,df13,df14,df15,df16,df17],axis=0)\n",
    "# #数据导出\n",
    "# import pandas as pd\n",
    "# writer = pd.ExcelWriter(\"/Users/philyu/kim/Kim file/2020-12/外呼数据/1221-1230商品外呼情况.xlsx\")\n",
    "# df_final.to_excel(writer, sheet_name='商品外呼情况',index=None)\n",
    "# df1_final.to_excel(writer, sheet_name='需要处理商品',index=None)\n",
    "# writer.save()\n",
    "# writer.close()"
   ]
  },
  {
   "cell_type": "code",
   "execution_count": null,
   "metadata": {},
   "outputs": [],
   "source": []
  }
 ],
 "metadata": {
  "kernelspec": {
   "display_name": "Python 3",
   "language": "python",
   "name": "python3"
  },
  "language_info": {
   "codemirror_mode": {
    "name": "ipython",
    "version": 3
   },
   "file_extension": ".py",
   "mimetype": "text/x-python",
   "name": "python",
   "nbconvert_exporter": "python",
   "pygments_lexer": "ipython3",
   "version": "3.8.5"
  }
 },
 "nbformat": 4,
 "nbformat_minor": 4
}
