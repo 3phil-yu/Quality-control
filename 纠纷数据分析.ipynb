{
 "cells": [
  {
   "cell_type": "code",
   "execution_count": 1,
   "metadata": {},
   "outputs": [],
   "source": [
    "import pandas as pd\n",
    "import numpy as np"
   ]
  },
  {
   "cell_type": "code",
   "execution_count": 3,
   "metadata": {},
   "outputs": [
    {
     "data": {
      "text/html": [
       "<div>\n",
       "<style scoped>\n",
       "    .dataframe tbody tr th:only-of-type {\n",
       "        vertical-align: middle;\n",
       "    }\n",
       "\n",
       "    .dataframe tbody tr th {\n",
       "        vertical-align: top;\n",
       "    }\n",
       "\n",
       "    .dataframe thead th {\n",
       "        text-align: right;\n",
       "    }\n",
       "</style>\n",
       "<table border=\"1\" class=\"dataframe\">\n",
       "  <thead>\n",
       "    <tr style=\"text-align: right;\">\n",
       "      <th></th>\n",
       "      <th>导出日期</th>\n",
       "      <th>order_id</th>\n",
       "      <th>订单支付日期</th>\n",
       "      <th>支付时间</th>\n",
       "      <th>退款状态</th>\n",
       "      <th>纠纷审核状态</th>\n",
       "      <th>admin_id</th>\n",
       "      <th>是否高价值用户</th>\n",
       "      <th>员工姓名</th>\n",
       "      <th>退款原因</th>\n",
       "      <th>...</th>\n",
       "      <th>商品单价</th>\n",
       "      <th>订单金额</th>\n",
       "      <th>邮费</th>\n",
       "      <th>申请退款金额</th>\n",
       "      <th>关闭时间(五种方式)</th>\n",
       "      <th>申请平台介入类型</th>\n",
       "      <th>申请平台介入原因</th>\n",
       "      <th>商家拒绝原因</th>\n",
       "      <th>责任人</th>\n",
       "      <th>操作原因</th>\n",
       "    </tr>\n",
       "  </thead>\n",
       "  <tbody>\n",
       "    <tr>\n",
       "      <th>0</th>\n",
       "      <td>2021-02-03 00:00:00</td>\n",
       "      <td>'2027400011281497</td>\n",
       "      <td>2020-09-30</td>\n",
       "      <td>2020-09-30 14:51:50</td>\n",
       "      <td>平台介入-买家仅退款申请</td>\n",
       "      <td>待处理</td>\n",
       "      <td>0</td>\n",
       "      <td>非高价值用户</td>\n",
       "      <td>-</td>\n",
       "      <td>未按约定时间发货</td>\n",
       "      <td>...</td>\n",
       "      <td>3.55</td>\n",
       "      <td>10.65</td>\n",
       "      <td>0.0</td>\n",
       "      <td>10.65</td>\n",
       "      <td>-</td>\n",
       "      <td>买家介入</td>\n",
       "      <td>未知状态</td>\n",
       "      <td>12</td>\n",
       "      <td>0</td>\n",
       "      <td>-</td>\n",
       "    </tr>\n",
       "    <tr>\n",
       "      <th>1</th>\n",
       "      <td>2021-02-03 00:00:00</td>\n",
       "      <td>'2029100037471770</td>\n",
       "      <td>2020-10-17</td>\n",
       "      <td>2020-10-17 22:23:48</td>\n",
       "      <td>平台介入-买家仅退款申请</td>\n",
       "      <td>待处理</td>\n",
       "      <td>0</td>\n",
       "      <td>非高价值用户</td>\n",
       "      <td>-</td>\n",
       "      <td>其他</td>\n",
       "      <td>...</td>\n",
       "      <td>3.49</td>\n",
       "      <td>3.49</td>\n",
       "      <td>0.0</td>\n",
       "      <td>3.49</td>\n",
       "      <td>-</td>\n",
       "      <td>买家介入</td>\n",
       "      <td>未知状态</td>\n",
       "      <td>商品已寄出，须寄回后才能退款</td>\n",
       "      <td>0</td>\n",
       "      <td>-</td>\n",
       "    </tr>\n",
       "    <tr>\n",
       "      <th>2</th>\n",
       "      <td>2021-02-03 00:00:00</td>\n",
       "      <td>'2029500064922569</td>\n",
       "      <td>2020-10-21</td>\n",
       "      <td>2020-10-21 22:43:43</td>\n",
       "      <td>平台介入-买家仅退款申请</td>\n",
       "      <td>待处理</td>\n",
       "      <td>0</td>\n",
       "      <td>非高价值用户</td>\n",
       "      <td>-</td>\n",
       "      <td>未按约定时间发货</td>\n",
       "      <td>...</td>\n",
       "      <td>7.99</td>\n",
       "      <td>7.99</td>\n",
       "      <td>0.0</td>\n",
       "      <td>7.99</td>\n",
       "      <td>-</td>\n",
       "      <td>买家介入</td>\n",
       "      <td>未知状态</td>\n",
       "      <td>12</td>\n",
       "      <td>0</td>\n",
       "      <td>-</td>\n",
       "    </tr>\n",
       "    <tr>\n",
       "      <th>3</th>\n",
       "      <td>2021-02-03 00:00:00</td>\n",
       "      <td>'2029600000206569</td>\n",
       "      <td>2020-10-22</td>\n",
       "      <td>2020-10-22 00:21:21</td>\n",
       "      <td>平台介入-买家仅退款申请</td>\n",
       "      <td>待处理</td>\n",
       "      <td>0</td>\n",
       "      <td>非高价值用户</td>\n",
       "      <td>-</td>\n",
       "      <td>未按约定时间发货</td>\n",
       "      <td>...</td>\n",
       "      <td>7.99</td>\n",
       "      <td>7.99</td>\n",
       "      <td>0.0</td>\n",
       "      <td>7.99</td>\n",
       "      <td>-</td>\n",
       "      <td>买家介入</td>\n",
       "      <td>未知状态</td>\n",
       "      <td>12</td>\n",
       "      <td>0</td>\n",
       "      <td>-</td>\n",
       "    </tr>\n",
       "    <tr>\n",
       "      <th>4</th>\n",
       "      <td>2021-02-03 00:00:00</td>\n",
       "      <td>'2029600040924421</td>\n",
       "      <td>2020-10-22</td>\n",
       "      <td>2020-10-22 22:48:29</td>\n",
       "      <td>平台介入-买家仅退款申请</td>\n",
       "      <td>待处理</td>\n",
       "      <td>0</td>\n",
       "      <td>非高价值用户</td>\n",
       "      <td>-</td>\n",
       "      <td>-</td>\n",
       "      <td>...</td>\n",
       "      <td>1.00</td>\n",
       "      <td>1.00</td>\n",
       "      <td>0.0</td>\n",
       "      <td>1.00</td>\n",
       "      <td>-</td>\n",
       "      <td>买家介入</td>\n",
       "      <td>未知状态</td>\n",
       "      <td>买家已签收商品，请选择退货退款</td>\n",
       "      <td>0</td>\n",
       "      <td>-</td>\n",
       "    </tr>\n",
       "  </tbody>\n",
       "</table>\n",
       "<p>5 rows × 31 columns</p>\n",
       "</div>"
      ],
      "text/plain": [
       "                  导出日期           order_id     订单支付日期                 支付时间  \\\n",
       "0  2021-02-03 00:00:00  '2027400011281497 2020-09-30  2020-09-30 14:51:50   \n",
       "1  2021-02-03 00:00:00  '2029100037471770 2020-10-17  2020-10-17 22:23:48   \n",
       "2  2021-02-03 00:00:00  '2029500064922569 2020-10-21  2020-10-21 22:43:43   \n",
       "3  2021-02-03 00:00:00  '2029600000206569 2020-10-22  2020-10-22 00:21:21   \n",
       "4  2021-02-03 00:00:00  '2029600040924421 2020-10-22  2020-10-22 22:48:29   \n",
       "\n",
       "           退款状态 纠纷审核状态  admin_id 是否高价值用户 员工姓名      退款原因  ...  商品单价   订单金额  \\\n",
       "0  平台介入-买家仅退款申请    待处理         0  非高价值用户    -  未按约定时间发货  ...  3.55  10.65   \n",
       "1  平台介入-买家仅退款申请    待处理         0  非高价值用户    -        其他  ...  3.49   3.49   \n",
       "2  平台介入-买家仅退款申请    待处理         0  非高价值用户    -  未按约定时间发货  ...  7.99   7.99   \n",
       "3  平台介入-买家仅退款申请    待处理         0  非高价值用户    -  未按约定时间发货  ...  7.99   7.99   \n",
       "4  平台介入-买家仅退款申请    待处理         0  非高价值用户    -         -  ...  1.00   1.00   \n",
       "\n",
       "    邮费 申请退款金额 关闭时间(五种方式) 申请平台介入类型 申请平台介入原因           商家拒绝原因 责任人 操作原因  \n",
       "0  0.0  10.65          -     买家介入     未知状态               12   0    -  \n",
       "1  0.0   3.49          -     买家介入     未知状态   商品已寄出，须寄回后才能退款   0    -  \n",
       "2  0.0   7.99          -     买家介入     未知状态               12   0    -  \n",
       "3  0.0   7.99          -     买家介入     未知状态               12   0    -  \n",
       "4  0.0   1.00          -     买家介入     未知状态  买家已签收商品，请选择退货退款   0    -  \n",
       "\n",
       "[5 rows x 31 columns]"
      ]
     },
     "execution_count": 3,
     "metadata": {},
     "output_type": "execute_result"
    }
   ],
   "source": [
    "#输入表名\n",
    "name='0128-0203'\n",
    "data=pd.read_excel(\"/Users/philyu/kim/Kim file/2021-02/02纠纷数据/%s纠纷数据.xlsx\"%name)\n",
    "data.head()"
   ]
  },
  {
   "cell_type": "code",
   "execution_count": 4,
   "metadata": {},
   "outputs": [],
   "source": [
    "#筛选质量纠纷原因\n",
    "data_qua=data[(data[\"退款原因\"]==\"假冒品牌\")|(data[\"退款原因\"]==\"质量问题\")|(data[\"退款原因\"]==\"商品与商家宣传不符\")]"
   ]
  },
  {
   "cell_type": "code",
   "execution_count": 5,
   "metadata": {},
   "outputs": [],
   "source": [
    "#对卖家前30进行计数，标记\n",
    "a=data_qua.groupby(\"卖家ID\")[\"卖家ID\"].count().sort_values(ascending=False)\n",
    "a1=pd.DataFrame(a)\n",
    "a1.columns=['卖家纠纷计数'] #修改列索引名称\n",
    "a2=a1.reset_index()\n",
    "a2_1=a2.loc[0:30,:]"
   ]
  },
  {
   "cell_type": "code",
   "execution_count": 6,
   "metadata": {},
   "outputs": [],
   "source": [
    "#对商品前30进行计数，标记\n",
    "b=data_qua.groupby(\"商品id\")[\"商品id\"].count().sort_values(ascending=False)\n",
    "b1=pd.DataFrame(b)\n",
    "b1.columns=['商品纠纷计数'] #修改列索引名称\n",
    "b2=b1.reset_index()\n",
    "b2_1=b2.loc[0:30,:]"
   ]
  },
  {
   "cell_type": "code",
   "execution_count": 7,
   "metadata": {},
   "outputs": [
    {
     "data": {
      "text/plain": [
       "Index(['导出日期', 'order_id', '订单支付日期', '支付时间', '退款状态', '纠纷审核状态', 'admin_id',\n",
       "       '是否高价值用户', '员工姓名', '退款原因', '买家id', '卖家ID', '买家退款描述', '商家评论', '申请平台介入时间',\n",
       "       '商品id', '商品名称', '一级分类', '二级分类', '三级分类', '商品数量', '商品单价', '订单金额', '邮费',\n",
       "       '申请退款金额', '关闭时间(五种方式)', '申请平台介入类型', '申请平台介入原因', '商家拒绝原因', '责任人',\n",
       "       '操作原因'],\n",
       "      dtype='object')"
      ]
     },
     "execution_count": 7,
     "metadata": {},
     "output_type": "execute_result"
    }
   ],
   "source": [
    "data.columns"
   ]
  },
  {
   "cell_type": "markdown",
   "metadata": {},
   "source": [
    "### sheet1:质量问题纠纷数据"
   ]
  },
  {
   "cell_type": "code",
   "execution_count": 8,
   "metadata": {},
   "outputs": [
    {
     "data": {
      "text/plain": [
       "Index(['导出日期', 'order_id', '订单支付日期', '支付时间', '退款状态', '纠纷审核状态', 'admin_id',\n",
       "       '是否高价值用户', '员工姓名', '退款原因', '买家id', '卖家ID', '买家退款描述', '商家评论', '申请平台介入时间',\n",
       "       '商品id', '商品名称', '一级分类', '二级分类', '三级分类', '商品数量', '商品单价', '订单金额', '邮费',\n",
       "       '申请退款金额', '关闭时间(五种方式)', '申请平台介入类型', '申请平台介入原因', '商家拒绝原因', '责任人', '操作原因',\n",
       "       '卖家纠纷计数', '商品纠纷计数'],\n",
       "      dtype='object')"
      ]
     },
     "execution_count": 8,
     "metadata": {},
     "output_type": "execute_result"
    }
   ],
   "source": [
    "#将筛选数据与原数据合并\n",
    "df_mer=pd.merge(left=data_qua, right=a2_1, left_on=\"卖家ID\", right_on=\"卖家ID\",how='outer')\n",
    "df_merge=pd.merge(left=df_mer, right=b2_1, left_on=\"商品id\", right_on=\"商品id\",how='outer')\n",
    "df_merge.columns"
   ]
  },
  {
   "cell_type": "markdown",
   "metadata": {},
   "source": [
    "### sheet2:商家TOP50"
   ]
  },
  {
   "cell_type": "code",
   "execution_count": 9,
   "metadata": {},
   "outputs": [],
   "source": [
    "a2_2=a2.loc[0:49,:]\n",
    "seller=pd.merge(left=data_qua, right=a2_2, left_on=\"卖家ID\", right_on=\"卖家ID\")\n",
    "#seller.head(3)"
   ]
  },
  {
   "cell_type": "code",
   "execution_count": 10,
   "metadata": {},
   "outputs": [
    {
     "data": {
      "text/html": [
       "<div>\n",
       "<style scoped>\n",
       "    .dataframe tbody tr th:only-of-type {\n",
       "        vertical-align: middle;\n",
       "    }\n",
       "\n",
       "    .dataframe tbody tr th {\n",
       "        vertical-align: top;\n",
       "    }\n",
       "\n",
       "    .dataframe thead th {\n",
       "        text-align: right;\n",
       "    }\n",
       "</style>\n",
       "<table border=\"1\" class=\"dataframe\">\n",
       "  <thead>\n",
       "    <tr style=\"text-align: right;\">\n",
       "      <th></th>\n",
       "      <th>卖家ID</th>\n",
       "      <th>一级分类</th>\n",
       "      <th>商品数量</th>\n",
       "    </tr>\n",
       "  </thead>\n",
       "  <tbody>\n",
       "    <tr>\n",
       "      <th>0</th>\n",
       "      <td>'1002200437</td>\n",
       "      <td>服饰/鞋靴/箱包</td>\n",
       "      <td>38</td>\n",
       "    </tr>\n",
       "    <tr>\n",
       "      <th>1</th>\n",
       "      <td>'1096412133</td>\n",
       "      <td>工业品</td>\n",
       "      <td>1</td>\n",
       "    </tr>\n",
       "    <tr>\n",
       "      <th>2</th>\n",
       "      <td>'1096412133</td>\n",
       "      <td>服饰/鞋靴/箱包</td>\n",
       "      <td>41</td>\n",
       "    </tr>\n",
       "    <tr>\n",
       "      <th>3</th>\n",
       "      <td>'1096412133</td>\n",
       "      <td>食品</td>\n",
       "      <td>2</td>\n",
       "    </tr>\n",
       "    <tr>\n",
       "      <th>4</th>\n",
       "      <td>'1105746736</td>\n",
       "      <td>家居生活</td>\n",
       "      <td>1</td>\n",
       "    </tr>\n",
       "  </tbody>\n",
       "</table>\n",
       "</div>"
      ],
      "text/plain": [
       "          卖家ID      一级分类  商品数量\n",
       "0  '1002200437  服饰/鞋靴/箱包    38\n",
       "1  '1096412133       工业品     1\n",
       "2  '1096412133  服饰/鞋靴/箱包    41\n",
       "3  '1096412133        食品     2\n",
       "4  '1105746736      家居生活     1"
      ]
     },
     "execution_count": 10,
     "metadata": {},
     "output_type": "execute_result"
    }
   ],
   "source": [
    "seller_print=seller.groupby([\"卖家ID\",\"一级分类\"])[\"商品id\"].count()\n",
    "seller_print\n",
    "seller_print_1=pd.DataFrame(seller_print)\n",
    "seller_print_1.columns=['商品数量'] #修改列索引名称\n",
    "seller_print_1=seller_print_1.reset_index()\n",
    "seller_print_1.head()"
   ]
  },
  {
   "cell_type": "markdown",
   "metadata": {},
   "source": [
    "### sheet3:商品TOP50"
   ]
  },
  {
   "cell_type": "code",
   "execution_count": 11,
   "metadata": {},
   "outputs": [],
   "source": [
    "b2_2=b2.loc[0:49,:]\n",
    "goods=pd.merge(left=data_qua, right=b2_2, left_on=\"商品id\", right_on=\"商品id\")\n",
    "#goods.head(3)"
   ]
  },
  {
   "cell_type": "code",
   "execution_count": 12,
   "metadata": {},
   "outputs": [
    {
     "data": {
      "text/html": [
       "<div>\n",
       "<style scoped>\n",
       "    .dataframe tbody tr th:only-of-type {\n",
       "        vertical-align: middle;\n",
       "    }\n",
       "\n",
       "    .dataframe tbody tr th {\n",
       "        vertical-align: top;\n",
       "    }\n",
       "\n",
       "    .dataframe thead th {\n",
       "        text-align: right;\n",
       "    }\n",
       "</style>\n",
       "<table border=\"1\" class=\"dataframe\">\n",
       "  <thead>\n",
       "    <tr style=\"text-align: right;\">\n",
       "      <th></th>\n",
       "      <th>商品id</th>\n",
       "      <th>一级分类</th>\n",
       "      <th>商品数量</th>\n",
       "    </tr>\n",
       "  </thead>\n",
       "  <tbody>\n",
       "    <tr>\n",
       "      <th>0</th>\n",
       "      <td>'550236969152</td>\n",
       "      <td>家居生活</td>\n",
       "      <td>11</td>\n",
       "    </tr>\n",
       "    <tr>\n",
       "      <th>1</th>\n",
       "      <td>'655691900611</td>\n",
       "      <td>家居生活</td>\n",
       "      <td>7</td>\n",
       "    </tr>\n",
       "    <tr>\n",
       "      <th>2</th>\n",
       "      <td>'668277976332</td>\n",
       "      <td>食品</td>\n",
       "      <td>11</td>\n",
       "    </tr>\n",
       "    <tr>\n",
       "      <th>3</th>\n",
       "      <td>'671622323225</td>\n",
       "      <td>食品</td>\n",
       "      <td>15</td>\n",
       "    </tr>\n",
       "    <tr>\n",
       "      <th>4</th>\n",
       "      <td>'694188718225</td>\n",
       "      <td>食品</td>\n",
       "      <td>8</td>\n",
       "    </tr>\n",
       "  </tbody>\n",
       "</table>\n",
       "</div>"
      ],
      "text/plain": [
       "            商品id  一级分类  商品数量\n",
       "0  '550236969152  家居生活    11\n",
       "1  '655691900611  家居生活     7\n",
       "2  '668277976332    食品    11\n",
       "3  '671622323225    食品    15\n",
       "4  '694188718225    食品     8"
      ]
     },
     "execution_count": 12,
     "metadata": {},
     "output_type": "execute_result"
    }
   ],
   "source": [
    "goods_print=goods.groupby([\"商品id\",\"一级分类\"])[\"商品id\"].count()\n",
    "len(goods_print)\n",
    "#转换成dataframe\n",
    "goods_print_1=pd.DataFrame(goods_print)\n",
    "goods_print_1.columns=['商品数量'] #修改列索引名称\n",
    "goods_print_1=goods_print_1.reset_index()\n",
    "goods_print_1.head()"
   ]
  },
  {
   "cell_type": "markdown",
   "metadata": {},
   "source": [
    "### 商家处理名单"
   ]
  },
  {
   "cell_type": "code",
   "execution_count": 13,
   "metadata": {},
   "outputs": [
    {
     "data": {
      "text/plain": [
       "201"
      ]
     },
     "execution_count": 13,
     "metadata": {},
     "output_type": "execute_result"
    }
   ],
   "source": [
    "df_deal1=df_merge[(df_merge['卖家纠纷计数'].notnull())&(df_merge['卖家纠纷计数'] !=\"\")]\n",
    "df_deal1_10=df_deal1[df_deal1[\"商品纠纷计数\"]>=10]\n",
    "df_deal2=df_deal1_10[(df_deal1_10['商品纠纷计数'].notnull())&(df_deal1_10['商品纠纷计数'] !=\"\")]\n",
    "len(df_deal2)\n",
    "#a=df_deal[\"商品id\"].unique()"
   ]
  },
  {
   "cell_type": "code",
   "execution_count": 14,
   "metadata": {},
   "outputs": [],
   "source": [
    "df_deal3=df_deal2.drop_duplicates(subset='商品id')"
   ]
  },
  {
   "cell_type": "code",
   "execution_count": 15,
   "metadata": {},
   "outputs": [
    {
     "data": {
      "text/plain": [
       "卖家ID         商品id           商品名称                               一级分类      二级分类          三级分类     \n",
       "'1449733880  '873082636880  商务皮带                               服饰/鞋靴/箱包  饰品/流行首饰/时尚饰品  棉/布/针织配件     1\n",
       "'1834657679  '873692968679  韩式不粘锅                              家居生活      厨具/杯具         烹饪用具         1\n",
       "'1849654037  '898400637037  盒子444                              家居生活      居家日用          -            1\n",
       "'1871051248  '884159820248  【55度恒温杯垫-用坏包退】72小时持久恒温 3秒速热 什么都能热  家用电器      生活电器          其他生活电器       1\n",
       "'1958153611  '905336203611  商务腰带                               服饰/鞋靴/箱包  饰品/流行首饰/时尚饰品  棉/布/针织配件     1\n",
       "'2050076456  '896079751456  【买3送3】79元6大罐 正宗乳山原产地生蚝 鲜香肥美 口口爆汁   食品        速食/干货         方便食品         1\n",
       "             '903893653456  【买三送三】79元6大罐 正宗乳山原产地生蚝 鲜香肥美 口口爆汁   食品        速食/干货         方便食品         1\n",
       "             '911234724456  【79元6罐】买三送三 正宗乳山原产地生蚝 鲜香肥美 口口爆汁    食品        速食/干货         方便食品         1\n",
       "             '918662720456  【买3送3】79元6大罐 正宗乳山原产地生蚝 鲜香肥美 口口爆汁   食品        速食/干货         方便食品         1\n",
       "'2160616169  '881501521169  牛年地垫 Y                             家居生活      家纺            地毯地垫         1\n",
       "'2177217710  '869596606710  【娃娃专享】鸭鸭2020年新款羽绒服女中长款加厚B-2830     服饰/鞋靴/箱包  男装            羽绒服          1\n",
       "             '869852883710  【娃娃专享】鸭鸭2020冬羽绒服女季新款大毛领DRA06B1750  服饰/鞋靴/箱包  女装            羽绒服          1\n",
       "'312265785   '876113752785  0446 足金 纯黄金 半镂空个性福牌吊坠 赠送银镀金链子      珠宝/钟表     金银饰           黄金(足金/纯金)    1\n",
       "             '876147106785  0413  足金  天鹅吊坠 赠送银镀金链子             珠宝/钟表     金银饰           黄金(足金/纯金)    1\n",
       "'337850208   '825814196208  梦宇精选-7929开心果                       食品        休闲食品          坚果炒货         1\n",
       "Name: 商品id, dtype: int64"
      ]
     },
     "execution_count": 15,
     "metadata": {},
     "output_type": "execute_result"
    }
   ],
   "source": [
    "df_deal_print=df_deal3.groupby([\"卖家ID\",\"商品id\",\"商品名称\",\"一级分类\",\"二级分类\",\"三级分类\"])[\"商品id\"].count()\n",
    "df_deal_print"
   ]
  },
  {
   "cell_type": "markdown",
   "metadata": {},
   "source": [
    "### 保存文件"
   ]
  },
  {
   "cell_type": "code",
   "execution_count": 16,
   "metadata": {},
   "outputs": [
    {
     "name": "stderr",
     "output_type": "stream",
     "text": [
      "/opt/anaconda3/lib/python3.8/site-packages/xlsxwriter/workbook.py:329: UserWarning: Calling close() on already closed file.\n",
      "  warn(\"Calling close() on already closed file.\")\n"
     ]
    }
   ],
   "source": [
    "import pandas as pd\n",
    "writer = pd.ExcelWriter(\"/Users/philyu/kim/Kim file/2021-02/02纠纷数据/%s纠纷数据_分析.xlsx\"%name)\n",
    "  \n",
    "df_merge.to_excel(writer, sheet_name='质量问题纠纷数据',index=None)\n",
    "seller_print_1.to_excel(writer, sheet_name='卖家TOP50',index=None)\n",
    "goods_print_1.to_excel(writer, sheet_name='商品TOP50',index=None)\n",
    "df_deal_print.to_excel(writer, sheet_name='双高需要治理名单') \n",
    "writer.save()\n",
    "writer.close()"
   ]
  },
  {
   "cell_type": "code",
   "execution_count": null,
   "metadata": {},
   "outputs": [],
   "source": []
  },
  {
   "cell_type": "code",
   "execution_count": null,
   "metadata": {},
   "outputs": [],
   "source": []
  },
  {
   "cell_type": "code",
   "execution_count": null,
   "metadata": {},
   "outputs": [],
   "source": []
  },
  {
   "cell_type": "code",
   "execution_count": null,
   "metadata": {},
   "outputs": [],
   "source": []
  },
  {
   "cell_type": "markdown",
   "metadata": {},
   "source": [
    "### 按类目纠纷数"
   ]
  },
  {
   "cell_type": "code",
   "execution_count": 4,
   "metadata": {},
   "outputs": [
    {
     "data": {
      "text/plain": [
       "Index(['导出日期', 'order_id', '订单支付日期', '支付时间', '退款状态', '纠纷审核状态', 'admin_id',\n",
       "       '员工姓名', '退款原因', '买家id', '卖家ID', '买家退款描述', '商家评论', '申请平台介入时间', '商品id',\n",
       "       '商品名称', '一级分类', '二级分类', '三级分类', '商品数量', '商品单价', '订单金额', '邮费', '申请退款金额',\n",
       "       '关闭时间(五种方式)', '申请平台介入类型', '申请平台介入原因', '商家拒绝原因', '备注内容', '责任人', '操作原因'],\n",
       "      dtype='object')"
      ]
     },
     "execution_count": 4,
     "metadata": {},
     "output_type": "execute_result"
    }
   ],
   "source": [
    "data_qua.columns"
   ]
  },
  {
   "cell_type": "code",
   "execution_count": 26,
   "metadata": {},
   "outputs": [],
   "source": [
    "data_five=data_qua.groupby([\"一级分类\",\"卖家ID\"])[\"商品id\"].count().sort_values(ascending=False)"
   ]
  },
  {
   "cell_type": "code",
   "execution_count": 19,
   "metadata": {},
   "outputs": [],
   "source": [
    "data_five1=pd.DataFrame(data_five)\n",
    "data_five1.columns=['卖家纠纷计数'] #修改列索引名称\n",
    "data_five2=data_five1.reset_index()"
   ]
  },
  {
   "cell_type": "code",
   "execution_count": 20,
   "metadata": {},
   "outputs": [
    {
     "data": {
      "text/plain": [
       "Index(['一级分类', '卖家ID', '卖家纠纷计数'], dtype='object')"
      ]
     },
     "execution_count": 20,
     "metadata": {},
     "output_type": "execute_result"
    }
   ],
   "source": [
    "data_five2.columns"
   ]
  },
  {
   "cell_type": "code",
   "execution_count": 23,
   "metadata": {},
   "outputs": [],
   "source": [
    "data_five3=data_five2[data_five2[\"一级分类\"].isin((\"服饰/鞋靴/箱包\",\"家居生活\",\"家用电器\",\"汽车用品\",\"美妆/个护清洁\",\"食品\",\"手机/数码/电脑办公\",\"孕婴/乐器/玩具\",\"运动户外\"))]"
   ]
  },
  {
   "cell_type": "code",
   "execution_count": 24,
   "metadata": {},
   "outputs": [],
   "source": [
    "data_five3.to_csv(\"/Users/philyu/kim/Kim file/2020-12/品退率.csv\",encoding=\"utf-8-sig\")"
   ]
  },
  {
   "cell_type": "code",
   "execution_count": null,
   "metadata": {},
   "outputs": [],
   "source": []
  }
 ],
 "metadata": {
  "kernelspec": {
   "display_name": "Python 3",
   "language": "python",
   "name": "python3"
  },
  "language_info": {
   "codemirror_mode": {
    "name": "ipython",
    "version": 3
   },
   "file_extension": ".py",
   "mimetype": "text/x-python",
   "name": "python",
   "nbconvert_exporter": "python",
   "pygments_lexer": "ipython3",
   "version": "3.8.5"
  }
 },
 "nbformat": 4,
 "nbformat_minor": 4
}
